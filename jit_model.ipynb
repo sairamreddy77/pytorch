{
 "cells": [
  {
   "cell_type": "code",
   "execution_count": 1,
   "metadata": {},
   "outputs": [],
   "source": [
    "import torch \n",
    "import torch.nn as nn\n",
    "import torch.nn.functional as F\n",
    "import torch.optim as optim\n",
    "from torch.utils.data import DataLoader\n",
    "import torchvision.transforms as transforms\n",
    "import torchvision.datasets as datasets\n",
    "import numpy as np\n",
    "import random\n",
    "import matplotlib.pyplot as plt"
   ]
  },
  {
   "cell_type": "code",
   "execution_count": 2,
   "metadata": {},
   "outputs": [],
   "source": [
    "import os\n",
    "\n",
    "os.environ['KMP_DUPLICATE_LIB_OK']='True'"
   ]
  },
  {
   "cell_type": "code",
   "execution_count": 3,
   "metadata": {},
   "outputs": [],
   "source": [
    "model = torch.jit.load('mnist_cnn.pth')"
   ]
  },
  {
   "cell_type": "code",
   "execution_count": 4,
   "metadata": {},
   "outputs": [],
   "source": [
    "device=device=torch.device('cpu')\n",
    "batch_size=64"
   ]
  },
  {
   "cell_type": "code",
   "execution_count": 7,
   "metadata": {},
   "outputs": [
    {
     "name": "stdout",
     "output_type": "stream",
     "text": [
      "RecursiveScriptModule(\n",
      "  original_name=CNN\n",
      "  (conv1): RecursiveScriptModule(original_name=Conv2d)\n",
      "  (pool): RecursiveScriptModule(original_name=MaxPool2d)\n",
      "  (conv2): RecursiveScriptModule(original_name=Conv2d)\n",
      "  (fc1): RecursiveScriptModule(original_name=Linear)\n",
      ")\n"
     ]
    }
   ],
   "source": [
    "print(model)"
   ]
  },
  {
   "cell_type": "code",
   "execution_count": 7,
   "metadata": {},
   "outputs": [],
   "source": [
    "train_dataset= datasets.MNIST(root='dataset/', train=True , transform=transforms.ToTensor() , download=True)\n",
    "train_loader=DataLoader(dataset=train_dataset , batch_size=batch_size , shuffle= True)\n",
    "test_dataset=datasets.MNIST(root='dataset/', train=False , transform=transforms.ToTensor() , download=True)\n",
    "test_loader=DataLoader(dataset=test_dataset , batch_size=batch_size , shuffle= False)\n"
   ]
  },
  {
   "cell_type": "code",
   "execution_count": 8,
   "metadata": {},
   "outputs": [],
   "source": [
    "def show_random_image_and_prediction(model, test_loader, device):\n",
    "\n",
    "    model.eval() # Set the model in evaluation mode\n",
    "\n",
    "    test_batches = list(test_loader)\n",
    "    random_batch = random.choice(test_batches)\n",
    "    images, labels = random_batch\n",
    "    \n",
    "    rand_idx=np.random.randint(64)\n",
    "     \n",
    "    image = images[rand_idx]    #dimension is (1,28,28) , it is the randomly chosen image\n",
    "    actual_label = labels[rand_idx].item()\n",
    "    \n",
    "    # Reshape the image to (28, 28) for visualization (since it's a grayscale image)\n",
    "    image_for_display = image.squeeze()  # Remove the channel dimension, from (1, 28, 28) to (28, 28)\n",
    "    \n",
    "    image = image.unsqueeze(0).to(device)    #the model expects (1,1,28,28) since model has been trained on (64,1,28,28)\n",
    "    #so we unsqeeze(add dimension at dim=0) \n",
    "    \n",
    "    with torch.no_grad():\n",
    "        prediction = model(image)\n",
    "        predicted_label = prediction.argmax(1).item()\n",
    "    \n",
    "    plt.imshow(image_for_display)\n",
    "    plt.title(f\"Actual: {actual_label}, Predicted: {predicted_label}\")\n",
    "    plt.show()"
   ]
  },
  {
   "cell_type": "code",
   "execution_count": 12,
   "metadata": {},
   "outputs": [
    {
     "data": {
      "image/png": "[encoded data removed]",
      "text/plain": [
       "<Figure size 640x480 with 1 Axes>"
      ]
     },
     "metadata": {},
     "output_type": "display_data"
    }
   ],
   "source": [
    "show_random_image_and_prediction(model, test_loader, device)"
   ]
  }
 ],
 "metadata": {
  "kernelspec": {
   "display_name": "ml_env",
   "language": "python",
   "name": "python3"
  },
  "language_info": {
   "codemirror_mode": {
    "name": "ipython",
    "version": 3
   },
   "file_extension": ".py",
   "mimetype": "text/x-python",
   "name": "python",
   "nbconvert_exporter": "python",
   "pygments_lexer": "ipython3",
   "version": "3.9.18"
  }
 },
 "nbformat": 4,
 "nbformat_minor": 2
}
