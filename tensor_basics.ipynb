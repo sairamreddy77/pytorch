{
 "cells": [
  {
   "cell_type": "markdown",
   "metadata": {},
   "source": [
    "BASICS OF PYTORCH TENSORS"
   ]
  },
  {
   "cell_type": "code",
   "execution_count": 3,
   "metadata": {},
   "outputs": [],
   "source": [
    "import torch\n",
    "device='cpu'"
   ]
  },
  {
   "cell_type": "code",
   "execution_count": 20,
   "metadata": {},
   "outputs": [
    {
     "name": "stdout",
     "output_type": "stream",
     "text": [
      "tensor([[1., 2., 3.],\n",
      "        [4., 5., 6.],\n",
      "        [7., 8., 9.]], requires_grad=True)\n"
     ]
    }
   ],
   "source": [
    "my_tensor=torch.tensor([[1,2,3],[4,5,6],[7,8,9]] , dtype=torch.float32, device=device , requires_grad=True)\n",
    "print(my_tensor)"
   ]
  },
  {
   "cell_type": "code",
   "execution_count": 24,
   "metadata": {},
   "outputs": [
    {
     "name": "stdout",
     "output_type": "stream",
     "text": [
      "tensor([[0., 0., 0., 0., 0.],\n",
      "        [0., 0., 0., 0., 0.],\n",
      "        [0., 0., 0., 0., 0.],\n",
      "        [0., 0., 0., 0., 0.],\n",
      "        [0., 0., 0., 0., 0.]], dtype=torch.float64)\n",
      "[[0. 0. 0. 0. 0.]\n",
      " [0. 0. 0. 0. 0.]\n",
      " [0. 0. 0. 0. 0.]\n",
      " [0. 0. 0. 0. 0.]\n",
      " [0. 0. 0. 0. 0.]]\n"
     ]
    }
   ],
   "source": [
    "import numpy as np\n",
    "np_array = np.zeros((5, 5))\n",
    "tensor = torch.from_numpy(np_array)\n",
    "np_array_again = (tensor.numpy())\n",
    "print(tensor)\n",
    "print(np_array_again)"
   ]
  },
  {
   "cell_type": "code",
   "execution_count": 27,
   "metadata": {},
   "outputs": [
    {
     "name": "stdout",
     "output_type": "stream",
     "text": [
      "tensor([10., 10., 10.])\n",
      "tensor([10, 10, 10])\n",
      "tensor([10, 10, 10])\n",
      "torch.float32\n"
     ]
    }
   ],
   "source": [
    "x = torch.tensor([1, 2, 3])\n",
    "y = torch.tensor([9, 8, 7])\n",
    "\n",
    "z1 = torch.empty(3)  #default float32\n",
    "torch.add(x, y, out=z1)  \n",
    "z2 = torch.add(x, y)  \n",
    "z = x + y  "
   ]
  },
  {
   "cell_type": "code",
   "execution_count": 48,
   "metadata": {},
   "outputs": [
    {
     "name": "stdout",
     "output_type": "stream",
     "text": [
      "tensor([[0.8367, 0.7189, 0.7569],\n",
      "        [0.2746, 0.5310, 0.8185]])\n",
      "tensor([[0.9956, 0.8710, 0.2525, 0.5232],\n",
      "        [0.8993, 0.2138, 0.1536, 0.1682],\n",
      "        [0.2754, 0.4256, 0.3458, 0.3414]])\n",
      "tensor([[1.6880, 1.2046, 0.5835, 0.8171],\n",
      "        [0.9763, 0.7010, 0.4339, 0.5124]])\n"
     ]
    }
   ],
   "source": [
    "z1=torch.rand(2,3)\n",
    "z2=torch.rand(3,4)\n",
    "print(z1)\n",
    "print(z2)\n",
    "print(z1.mm(z2)) #matrix mul\n",
    "\n",
    "# -- Batch Matrix Multiplication --\n",
    "batch = 32\n",
    "n = 10\n",
    "m = 20\n",
    "p = 30\n",
    "tensor1 = torch.rand((batch, n, m))\n",
    "tensor2 = torch.rand((batch, m, p))\n",
    "out_bmm = torch.bmm(tensor1, tensor2)  # Will be shape: (b x n x p)"
   ]
  },
  {
   "cell_type": "code",
   "execution_count": 128,
   "metadata": {},
   "outputs": [
    {
     "name": "stdout",
     "output_type": "stream",
     "text": [
      "tensor([0, 1, 2, 3, 4, 5, 6, 7, 8, 9])\n",
      "tensor([ 0,  2,  4,  6,  8, 10,  6,  7,  8,  9])\n"
     ]
    }
   ],
   "source": [
    "x = torch.arange(10)\n",
    "print(x)\n",
    "print(torch.where(x > 5, x, x * 2))"
   ]
  },
  {
   "cell_type": "code",
   "execution_count": 139,
   "metadata": {},
   "outputs": [
    {
     "name": "stdout",
     "output_type": "stream",
     "text": [
      "tensor([[[3, 7, 4],\n",
      "         [9, 1, 5],\n",
      "         [5, 7, 1]],\n",
      "\n",
      "        [[6, 6, 5],\n",
      "         [8, 2, 6],\n",
      "         [2, 4, 9]],\n",
      "\n",
      "        [[6, 4, 6],\n",
      "         [9, 5, 4],\n",
      "         [1, 2, 7]]])\n",
      "tensor([3, 7, 4, 9, 1, 5, 5, 7, 1, 6, 6, 5, 8, 2, 6, 2, 4, 9, 6, 4, 6, 9, 5, 4,\n",
      "        1, 2, 7])\n",
      "tensor([[3, 7, 4, 9, 1, 5, 5, 7, 1],\n",
      "        [6, 6, 5, 8, 2, 6, 2, 4, 9],\n",
      "        [6, 4, 6, 9, 5, 4, 1, 2, 7]])\n"
     ]
    }
   ],
   "source": [
    "z=torch.randint(1,10,(3,3,3))\n",
    "print(z)\n",
    "print(z.reshape(-1))  #flatten\n",
    "print(z.reshape(3,-1))  #keep dim = 3 and flattens other dim"
   ]
  },
  {
   "cell_type": "code",
   "execution_count": 148,
   "metadata": {},
   "outputs": [
    {
     "name": "stdout",
     "output_type": "stream",
     "text": [
      "tensor([[[0.8773, 0.0399],\n",
      "         [0.1558, 0.1976]],\n",
      "\n",
      "        [[0.8938, 0.8562],\n",
      "         [0.5585, 0.2928]]])\n",
      "\n",
      "tensor([[[0.8773, 0.1558],\n",
      "         [0.0399, 0.1976]],\n",
      "\n",
      "        [[0.8938, 0.5585],\n",
      "         [0.8562, 0.2928]]])\n",
      "tensor([[[0.8773, 0.8938],\n",
      "         [0.1558, 0.5585]],\n",
      "\n",
      "        [[0.0399, 0.8562],\n",
      "         [0.1976, 0.2928]]])\n"
     ]
    }
   ],
   "source": [
    "a=torch.rand(2,2,2)\n",
    "print(a)\n",
    "print()\n",
    "print(a.permute(0,2,1))   #transpose  (interchanges changes dim=2 and dim=1  row and column )\n",
    "\n",
    "print(a.permute(2,1,0))"
   ]
  },
  {
   "cell_type": "code",
   "execution_count": 182,
   "metadata": {},
   "outputs": [
    {
     "name": "stdout",
     "output_type": "stream",
     "text": [
      "tensor([0, 1, 2, 3, 4, 5, 6, 7, 8, 9])\n",
      "torch.Size([10])\n",
      "torch.Size([10, 1])\n",
      "tensor([[0],\n",
      "        [1],\n",
      "        [2],\n",
      "        [3],\n",
      "        [4],\n",
      "        [5],\n",
      "        [6],\n",
      "        [7],\n",
      "        [8],\n",
      "        [9]])\n",
      "tensor([0, 1, 2, 3, 4, 5, 6, 7, 8, 9])\n",
      "torch.Size([10])\n",
      "torch.Size([1, 10])\n",
      "tensor([[0, 1, 2, 3, 4, 5, 6, 7, 8, 9]])\n"
     ]
    }
   ],
   "source": [
    "x=torch.arange(10)\n",
    "print(x)\n",
    "print(x.shape)\n",
    "x.unsqueeze_(1)   #add a dimension  \n",
    "print(x.shape)    #add 10 rows\n",
    "print(x)\n",
    "\n",
    "y=torch.arange(10)\n",
    "print(y)\n",
    "print(y.shape)\n",
    "y.unsqueeze_(0)   \n",
    "print(y.shape)     #add 1 row\n",
    "print(y)\n"
   ]
  }
 ],
 "metadata": {
  "kernelspec": {
   "display_name": "ml_env",
   "language": "python",
   "name": "python3"
  },
  "language_info": {
   "codemirror_mode": {
    "name": "ipython",
    "version": 3
   },
   "file_extension": ".py",
   "mimetype": "text/x-python",
   "name": "python",
   "nbconvert_exporter": "python",
   "pygments_lexer": "ipython3",
   "version": "3.9.18"
  }
 },
 "nbformat": 4,
 "nbformat_minor": 2
}
